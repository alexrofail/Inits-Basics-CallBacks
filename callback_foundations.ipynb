{
  "nbformat": 4,
  "nbformat_minor": 0,
  "metadata": {
    "colab": {
      "name": "callback_foundations.ipynb",
      "provenance": [],
      "authorship_tag": "ABX9TyNH8NlD24vCL9IaZOZFeE1z",
      "include_colab_link": true
    },
    "kernelspec": {
      "name": "python3",
      "display_name": "Python 3"
    },
    "language_info": {
      "name": "python"
    },
    "widgets": {
      "application/vnd.jupyter.widget-state+json": {
        "f5f26e1c7a25443a8a13dd977e31abb7": {
          "model_module": "@jupyter-widgets/controls",
          "model_name": "ButtonModel",
          "state": {
            "_view_name": "ButtonView",
            "style": "IPY_MODEL_c2dfa2123d8d4297ad964ec5991a359d",
            "_dom_classes": [],
            "description": "click",
            "_model_name": "ButtonModel",
            "button_style": "",
            "_view_module": "@jupyter-widgets/controls",
            "_model_module_version": "1.5.0",
            "tooltip": "",
            "_view_count": null,
            "disabled": false,
            "_view_module_version": "1.5.0",
            "layout": "IPY_MODEL_cf22dfccdef5482abe502a1e9803125e",
            "_model_module": "@jupyter-widgets/controls",
            "icon": ""
          }
        },
        "c2dfa2123d8d4297ad964ec5991a359d": {
          "model_module": "@jupyter-widgets/controls",
          "model_name": "ButtonStyleModel",
          "state": {
            "_view_name": "StyleView",
            "_model_name": "ButtonStyleModel",
            "_view_module": "@jupyter-widgets/base",
            "_model_module_version": "1.5.0",
            "_view_count": null,
            "button_color": null,
            "font_weight": "",
            "_view_module_version": "1.2.0",
            "_model_module": "@jupyter-widgets/controls"
          }
        },
        "cf22dfccdef5482abe502a1e9803125e": {
          "model_module": "@jupyter-widgets/base",
          "model_name": "LayoutModel",
          "state": {
            "_view_name": "LayoutView",
            "grid_template_rows": null,
            "right": null,
            "justify_content": null,
            "_view_module": "@jupyter-widgets/base",
            "overflow": null,
            "_model_module_version": "1.2.0",
            "_view_count": null,
            "flex_flow": null,
            "width": null,
            "min_width": null,
            "border": null,
            "align_items": null,
            "bottom": null,
            "_model_module": "@jupyter-widgets/base",
            "top": null,
            "grid_column": null,
            "overflow_y": null,
            "overflow_x": null,
            "grid_auto_flow": null,
            "grid_area": null,
            "grid_template_columns": null,
            "flex": null,
            "_model_name": "LayoutModel",
            "justify_items": null,
            "grid_row": null,
            "max_height": null,
            "align_content": null,
            "visibility": null,
            "align_self": null,
            "height": null,
            "min_height": null,
            "padding": null,
            "grid_auto_rows": null,
            "grid_gap": null,
            "max_width": null,
            "order": null,
            "_view_module_version": "1.2.0",
            "grid_template_areas": null,
            "object_position": null,
            "object_fit": null,
            "grid_auto_columns": null,
            "margin": null,
            "display": null,
            "left": null
          }
        }
      }
    }
  },
  "cells": [
    {
      "cell_type": "markdown",
      "metadata": {
        "id": "view-in-github",
        "colab_type": "text"
      },
      "source": [
        "<a href=\"https://colab.research.google.com/github/alexrofail/Inits-Basics-CallBacks/blob/main/callback_foundations.ipynb\" target=\"_parent\"><img src=\"https://colab.research.google.com/assets/colab-badge.svg\" alt=\"Open In Colab\"/></a>"
      ]
    },
    {
      "cell_type": "code",
      "metadata": {
        "id": "pXqvEr3Usgvu"
      },
      "source": [
        "import torch\n",
        "import matplotlib.pyplot as plt"
      ],
      "execution_count": 5,
      "outputs": []
    },
    {
      "cell_type": "code",
      "metadata": {
        "id": "AyzSWusUspgL"
      },
      "source": [
        "#GUIs and Callbacks - a visualization"
      ],
      "execution_count": 6,
      "outputs": []
    },
    {
      "cell_type": "code",
      "metadata": {
        "id": "BubG_qZZsvE4"
      },
      "source": [
        "import ipywidgets as wij"
      ],
      "execution_count": 7,
      "outputs": []
    },
    {
      "cell_type": "code",
      "metadata": {
        "id": "YIW32W1usx_j"
      },
      "source": [
        "def f(o): print(\"lets learn callbacks\")"
      ],
      "execution_count": 8,
      "outputs": []
    },
    {
      "cell_type": "code",
      "metadata": {
        "id": "On4J-rX9s2Ab"
      },
      "source": [
        "c = wij.Button(description=\"click\")"
      ],
      "execution_count": 9,
      "outputs": []
    },
    {
      "cell_type": "code",
      "metadata": {
        "colab": {
          "base_uri": "https://localhost:8080/",
          "height": 49,
          "referenced_widgets": [
            "f5f26e1c7a25443a8a13dd977e31abb7",
            "c2dfa2123d8d4297ad964ec5991a359d",
            "cf22dfccdef5482abe502a1e9803125e"
          ]
        },
        "id": "LizfTV7KtTuX",
        "outputId": "6926dc60-868f-44ef-fd4f-cfc7048fffb6"
      },
      "source": [
        "c"
      ],
      "execution_count": 10,
      "outputs": [
        {
          "output_type": "display_data",
          "data": {
            "application/vnd.jupyter.widget-view+json": {
              "model_id": "f5f26e1c7a25443a8a13dd977e31abb7",
              "version_minor": 0,
              "version_major": 2
            },
            "text/plain": [
              "Button(description='click', style=ButtonStyle())"
            ]
          },
          "metadata": {
            "tags": []
          }
        }
      ]
    },
    {
      "cell_type": "code",
      "metadata": {
        "id": "MfieafLktUCG"
      },
      "source": [
        "c.on_click(f)"
      ],
      "execution_count": 11,
      "outputs": []
    },
    {
      "cell_type": "code",
      "metadata": {
        "id": "cnMZfYuptYlu"
      },
      "source": [
        "from time import sleep"
      ],
      "execution_count": 12,
      "outputs": []
    },
    {
      "cell_type": "code",
      "metadata": {
        "id": "ZvbIXqhsuH9t"
      },
      "source": [
        "def slow_calc(cb=None):\n",
        "  res = 0\n",
        "  for i in range(5):\n",
        "    res += i*i\n",
        "    sleep(1)\n",
        "  return res"
      ],
      "execution_count": 13,
      "outputs": []
    },
    {
      "cell_type": "code",
      "metadata": {
        "colab": {
          "base_uri": "https://localhost:8080/"
        },
        "id": "vjiIhQALuUM_",
        "outputId": "e1f91c8b-f0c2-4dce-b094-d759a489a914"
      },
      "source": [
        "slow_calc()"
      ],
      "execution_count": 14,
      "outputs": [
        {
          "output_type": "execute_result",
          "data": {
            "text/plain": [
              "30"
            ]
          },
          "metadata": {
            "tags": []
          },
          "execution_count": 14
        }
      ]
    },
    {
      "cell_type": "code",
      "metadata": {
        "id": "wCzQjEV2uWMY"
      },
      "source": [
        "#We can add callbacks in slow_calc\n",
        "def slow_calc(cb=None):\n",
        "  res = 0\n",
        "  for i in range(5):\n",
        "    res += i*i\n",
        "    sleep(1)\n",
        "    if cb: cb(i)\n",
        "  return res"
      ],
      "execution_count": 15,
      "outputs": []
    },
    {
      "cell_type": "code",
      "metadata": {
        "id": "FjtVrjGMug6y"
      },
      "source": [
        "#What if we want to see progress of the slow_calc while its doing slow_calc\n",
        "def show_progress(epoch):\n",
        "  print(f\"Awesome! We finished epoch {epoch} !\")"
      ],
      "execution_count": 16,
      "outputs": []
    },
    {
      "cell_type": "code",
      "metadata": {
        "colab": {
          "base_uri": "https://localhost:8080/"
        },
        "id": "8o11SFQUuv0i",
        "outputId": "c26b2c56-aa03-4d95-db17-99dbdec18443"
      },
      "source": [
        "slow_calc(show_progress)"
      ],
      "execution_count": 17,
      "outputs": [
        {
          "output_type": "stream",
          "text": [
            "Awesome! We finished epoch 0 !\n",
            "Awesome! We finished epoch 1 !\n",
            "Awesome! We finished epoch 2 !\n",
            "Awesome! We finished epoch 3 !\n",
            "Awesome! We finished epoch 4 !\n"
          ],
          "name": "stdout"
        },
        {
          "output_type": "execute_result",
          "data": {
            "text/plain": [
              "30"
            ]
          },
          "metadata": {
            "tags": []
          },
          "execution_count": 17
        }
      ]
    },
    {
      "cell_type": "code",
      "metadata": {
        "id": "Y5_-bir_vdTQ"
      },
      "source": [
        "#What if show_progress takes two params but the cb only takes one, how to transform that?\n",
        "def show_progress(exclamation, epoch):\n",
        "  print(f\"{exclamation}! We finished epoch {epoch}\")"
      ],
      "execution_count": 18,
      "outputs": []
    },
    {
      "cell_type": "code",
      "metadata": {
        "colab": {
          "base_uri": "https://localhost:8080/"
        },
        "id": "e_NiFa4RrFB0",
        "outputId": "cb4eb0d4-6d6e-48be-9330-d29f8f4e7376"
      },
      "source": [
        "slow_calc(lambda o: show_progress(\"Ok then\", o))"
      ],
      "execution_count": 19,
      "outputs": [
        {
          "output_type": "stream",
          "text": [
            "Ok then! We finished epoch 0\n",
            "Ok then! We finished epoch 1\n",
            "Ok then! We finished epoch 2\n",
            "Ok then! We finished epoch 3\n",
            "Ok then! We finished epoch 4\n"
          ],
          "name": "stdout"
        },
        {
          "output_type": "execute_result",
          "data": {
            "text/plain": [
              "30"
            ]
          },
          "metadata": {
            "tags": []
          },
          "execution_count": 19
        }
      ]
    },
    {
      "cell_type": "code",
      "metadata": {
        "id": "kvWWru7PrNcc"
      },
      "source": [
        "#Make it easer to add different exclamations\n",
        "def make_show_progress(exclamation):\n",
        "  _inner = lambda epoch: print(f\"{exclamation} We finished epoch {epoch}\")\n",
        "  return _inner"
      ],
      "execution_count": 20,
      "outputs": []
    },
    {
      "cell_type": "code",
      "metadata": {
        "colab": {
          "base_uri": "https://localhost:8080/"
        },
        "id": "SnAXNN12r8OH",
        "outputId": "1afd0c48-a0ef-4048-ad34-e6517c7167da"
      },
      "source": [
        "slow_calc(make_show_progress(\"Hey\"))"
      ],
      "execution_count": 21,
      "outputs": [
        {
          "output_type": "stream",
          "text": [
            "Hey We finished epoch 0\n",
            "Hey We finished epoch 1\n",
            "Hey We finished epoch 2\n",
            "Hey We finished epoch 3\n",
            "Hey We finished epoch 4\n"
          ],
          "name": "stdout"
        },
        {
          "output_type": "execute_result",
          "data": {
            "text/plain": [
              "30"
            ]
          },
          "metadata": {
            "tags": []
          },
          "execution_count": 21
        }
      ]
    },
    {
      "cell_type": "code",
      "metadata": {
        "id": "VWbtMjo9sAea"
      },
      "source": [
        "#Or you can define make_show_progress like this instead of using lambda\n",
        "#This is also called closure, it will return _inner func every time make_show_progress is called\n",
        "def make_show_progress(exclamation):\n",
        "  def _inner(epoch): print(f\"{exclamation} We finished epoch {epoch}\")\n",
        "  return _inner "
      ],
      "execution_count": 24,
      "outputs": []
    },
    {
      "cell_type": "code",
      "metadata": {
        "colab": {
          "base_uri": "https://localhost:8080/"
        },
        "id": "3WKGQrcYshua",
        "outputId": "25c73315-c9eb-4d79-ba65-9e5da3e4f7be"
      },
      "source": [
        "slow_calc(make_show_progress(\"Hey\"))"
      ],
      "execution_count": 23,
      "outputs": [
        {
          "output_type": "stream",
          "text": [
            "Hey We finished epoch 0\n",
            "Hey We finished epoch 1\n",
            "Hey We finished epoch 2\n",
            "Hey We finished epoch 3\n",
            "Hey We finished epoch 4\n"
          ],
          "name": "stdout"
        },
        {
          "output_type": "execute_result",
          "data": {
            "text/plain": [
              "30"
            ]
          },
          "metadata": {
            "tags": []
          },
          "execution_count": 23
        }
      ]
    },
    {
      "cell_type": "code",
      "metadata": {
        "id": "iO9vcyesskp4"
      },
      "source": [
        ""
      ],
      "execution_count": null,
      "outputs": []
    }
  ]
}