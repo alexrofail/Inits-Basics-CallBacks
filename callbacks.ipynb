{
  "nbformat": 4,
  "nbformat_minor": 0,
  "metadata": {
    "colab": {
      "name": "callbacks.ipynb",
      "provenance": [],
      "collapsed_sections": [],
      "authorship_tag": "ABX9TyP+wRRFjQ64rXCGihHLsbn0",
      "include_colab_link": true
    },
    "kernelspec": {
      "name": "python3",
      "display_name": "Python 3"
    },
    "language_info": {
      "name": "python"
    }
  },
  "cells": [
    {
      "cell_type": "markdown",
      "metadata": {
        "id": "view-in-github",
        "colab_type": "text"
      },
      "source": [
        "<a href=\"https://colab.research.google.com/github/alexrofail/Loss-Optimizers-Training-Loops/blob/main/callbacks.ipynb\" target=\"_parent\"><img src=\"https://colab.research.google.com/assets/colab-badge.svg\" alt=\"Open In Colab\"/></a>"
      ]
    },
    {
      "cell_type": "code",
      "metadata": {
        "id": "Ifi7vNyMAGc3"
      },
      "source": [
        "import torch.nn.functional as F\n",
        "import gzip\n",
        "import pickle\n",
        "from torch import tensor\n",
        "from torch import nn"
      ],
      "execution_count": 1,
      "outputs": []
    },
    {
      "cell_type": "code",
      "metadata": {
        "id": "nVZFyKo4BAVd"
      },
      "source": [
        "import pickle, gzip, math, torch, matplotlib as mpl"
      ],
      "execution_count": 2,
      "outputs": []
    },
    {
      "cell_type": "code",
      "metadata": {
        "id": "F8UzSoYfBC6_"
      },
      "source": [
        "def accuracy(out, yb):\n",
        "  return (torch.argmax(out, dim=1)==yb).float().mean()"
      ],
      "execution_count": 3,
      "outputs": []
    },
    {
      "cell_type": "code",
      "metadata": {
        "id": "1XCxng-VBH7g"
      },
      "source": [
        "from torch import optim\n",
        "from matplotlib import pyplot as plt\n",
        "from torch.utils.data import DataLoader, SequentialSampler, RandomSampler"
      ],
      "execution_count": 4,
      "outputs": []
    },
    {
      "cell_type": "code",
      "metadata": {
        "id": "XYXSWlw2BNvO"
      },
      "source": [
        "class Dataset():\n",
        "  def __init__(self,x,y):\n",
        "    self.x ,self.y = x,y\n",
        "  \n",
        "  def __len__(self):\n",
        "    return len(self.x)\n",
        "\n",
        "  def __getitem__(self,i):\n",
        "    return self.x[i], self.y[i]"
      ],
      "execution_count": 5,
      "outputs": []
    },
    {
      "cell_type": "code",
      "metadata": {
        "id": "2NR-sGU6BP8k"
      },
      "source": [
        "def get_dls(train_ds, valid_ds, bs, **kwargs):\n",
        "  return (DataLoader(train_ds, batch_size=bs, shuffle=True, **kwargs),\n",
        "          DataLoader(valid_ds, batch_size=bs*2, **kwargs))"
      ],
      "execution_count": 6,
      "outputs": []
    },
    {
      "cell_type": "code",
      "metadata": {
        "id": "fw3A6VwBdQB9"
      },
      "source": [
        "def get_data():\n",
        "    with gzip.open('mnist.pkl.gz') as f:\n",
        "        ((x_train, y_train), (x_valid, y_valid), _) = pickle.load(f, encoding='latin-1')\n",
        "    return map(tensor, (x_train,y_train,x_valid,y_valid))"
      ],
      "execution_count": 11,
      "outputs": []
    },
    {
      "cell_type": "code",
      "metadata": {
        "id": "T7BsmhrudRSX"
      },
      "source": [
        "x_train,y_train,x_valid,y_valid = get_data()\n",
        "train_ds,valid_ds = Dataset(x_train, y_train),Dataset(x_valid, y_valid)\n",
        "nh,bs = 50,64\n",
        "c = y_train.max().item()+1\n",
        "loss_func = F.cross_entropy"
      ],
      "execution_count": 12,
      "outputs": []
    },
    {
      "cell_type": "code",
      "metadata": {
        "id": "mcGHRBo3Bcop"
      },
      "source": [
        "#TODO: very important, go back and fix the exports thing \n",
        "#TODO: cont... so that you don't have to c/p code above to maintain library"
      ],
      "execution_count": null,
      "outputs": []
    },
    {
      "cell_type": "code",
      "metadata": {
        "id": "0jd5RFlwBolC"
      },
      "source": [
        "#export\n",
        "class Databunch():\n",
        "  def __init__(self, train_dl, valid_dl, c=None):\n",
        "    self.train_dl, self.valid_dl, self.c = train_dl, valid_dl, c\n",
        "\n",
        "  @property\n",
        "  def train_ds(self): return self.train_dl.dataset\n",
        "\n",
        "  @property\n",
        "  def valid_ds(self): return self.valid_dl.dataset"
      ],
      "execution_count": 15,
      "outputs": []
    },
    {
      "cell_type": "code",
      "metadata": {
        "id": "85CMpetQf0Eb"
      },
      "source": [
        "data = Databunch(*get_dls(train_ds, valid_ds, bs), c)"
      ],
      "execution_count": 16,
      "outputs": []
    },
    {
      "cell_type": "code",
      "metadata": {
        "id": "Uolx05qyiJaZ"
      },
      "source": [
        "#export\n",
        "def get_model (data, lr=0.5, nh=50):\n",
        "  m = data.train_ds.x.shape[1]\n",
        "  model = nn.Sequential(nn.Linear(m, nh), nn.ReLU(), nn.Linear(nh, data.c))\n",
        "  return model, optim.SGD(model.parameters(), lr=lr)\n",
        "\n",
        "\n",
        "class Learner():\n",
        "  def __init__(self, model, opt, loss_func, data):\n",
        "    self.model, self.opt, self.loss_func, self.data = model, opt, loss_func, data"
      ],
      "execution_count": 20,
      "outputs": []
    },
    {
      "cell_type": "code",
      "metadata": {
        "id": "jQ7ACOv8m62O"
      },
      "source": [
        "learn = Learner(*get_model(data), loss_func, data)"
      ],
      "execution_count": 21,
      "outputs": []
    },
    {
      "cell_type": "code",
      "metadata": {
        "id": "8hYHJsJ8nJ_K"
      },
      "source": [
        "def fit(epochs, learn):\n",
        "  for epoch in range(epochs):\n",
        "    #training loop\n",
        "    learn.model.train()\n",
        "    for xb, yb in learn.data.train_dl:\n",
        "      loss = learn.loss_func(learn.model(xb), yb)\n",
        "      loss.backward()\n",
        "      learn.opt.step()\n",
        "      learn.opt.zero_grad()\n",
        "    #validation\n",
        "    learn.model.eval\n",
        "    with torch.no_grad():\n",
        "      tot_loss, tot_acc = 0., 0.\n",
        "      for xb, yb in learn.data.valid_dl:\n",
        "        pred = learn.model(xb)\n",
        "        tot_loss += learn.loss_func(pred, yb)\n",
        "        tot_acc += accuracy(pred, yb)\n",
        "\n",
        "      num_vars = len(learn.data.valid_dl)\n",
        "      print(epoch, tot_loss/num_vars, tot_acc/num_vars)\n",
        "\n",
        "    return tot_loss/num_vars, tot_acc/num_vars "
      ],
      "execution_count": 22,
      "outputs": []
    },
    {
      "cell_type": "code",
      "metadata": {
        "colab": {
          "base_uri": "https://localhost:8080/"
        },
        "id": "mwbenuTYs_WG",
        "outputId": "668010c0-924e-49a4-d5da-eb70de559111"
      },
      "source": [
        "loss, acc = fit(1, learn)"
      ],
      "execution_count": 23,
      "outputs": [
        {
          "output_type": "stream",
          "text": [
            "0 tensor(0.1968) tensor(0.9387)\n"
          ],
          "name": "stdout"
        }
      ]
    },
    {
      "cell_type": "code",
      "metadata": {
        "id": "ji6fM9AdtEQi"
      },
      "source": [
        "#Now that we have out fit, we can add callbacks to make it more flexible for an array of 'ifs' without adding 100000 if-else statements\n",
        "def one_batch(xb,yb,cb):\n",
        "  if not cb.begin_batch(xb,yb): return\n",
        "  loss = cb.learn.loss_func(cb.learn.model(xb),yb)\n",
        "  if not cb.after_loss(loss) return\n",
        "  loss.backward()\n",
        "  if cb.after_backward(): cb.learn.opt.step()\n",
        "  if cb.after_step(): cb.learn.opt.zero_grad()\n",
        "\n",
        "def all_batches(dl, cb):\n",
        "  for xb,yb in dl:\n",
        "    one_batch(xb,yb,cb)\n",
        "    if cb.do_stop(): return "
      ],
      "execution_count": null,
      "outputs": []
    }
  ]
}