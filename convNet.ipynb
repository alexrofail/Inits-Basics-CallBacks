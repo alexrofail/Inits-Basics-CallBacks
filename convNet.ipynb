{
  "nbformat": 4,
  "nbformat_minor": 0,
  "metadata": {
    "colab": {
      "name": "convNet.ipynb",
      "provenance": [],
      "collapsed_sections": [],
      "authorship_tag": "ABX9TyP8m3A2vZgG4otpq/8HYqWx",
      "include_colab_link": true
    },
    "kernelspec": {
      "name": "python3",
      "display_name": "Python 3"
    },
    "language_info": {
      "name": "python"
    }
  },
  "cells": [
    {
      "cell_type": "markdown",
      "metadata": {
        "id": "view-in-github",
        "colab_type": "text"
      },
      "source": [
        "<a href=\"https://colab.research.google.com/github/alexrofail/Inits-Basics-CallBacks/blob/main/convNet.ipynb\" target=\"_parent\"><img src=\"https://colab.research.google.com/assets/colab-badge.svg\" alt=\"Open In Colab\"/></a>"
      ]
    },
    {
      "cell_type": "code",
      "metadata": {
        "id": "38ggJkli0k9B"
      },
      "source": [
        "import torch.nn.functional as F\n",
        "import gzip\n",
        "import pickle\n",
        "from torch import tensor\n",
        "from torch import nn\n",
        "from torch.utils.data import DataLoader"
      ],
      "execution_count": 18,
      "outputs": []
    },
    {
      "cell_type": "code",
      "metadata": {
        "id": "cb1Vgbvf0nNs"
      },
      "source": [
        "import pickle, gzip, math, torch, matplotlib as mpl"
      ],
      "execution_count": 2,
      "outputs": []
    },
    {
      "cell_type": "code",
      "metadata": {
        "id": "5QcjfeYF0pQy"
      },
      "source": [
        "def get_data():\n",
        "    with gzip.open('mnist.pkl.gz') as f:\n",
        "        ((x_train, y_train), (x_valid, y_valid), _) = pickle.load(f, encoding='latin-1')\n",
        "    return map(tensor, (x_train,y_train,x_valid,y_valid))"
      ],
      "execution_count": 3,
      "outputs": []
    },
    {
      "cell_type": "code",
      "metadata": {
        "id": "Vm4hvfFc1Qll"
      },
      "source": [
        "x_train,y_train,x_valid,y_valid = get_data()"
      ],
      "execution_count": 4,
      "outputs": []
    },
    {
      "cell_type": "code",
      "metadata": {
        "id": "wTDlU7TqcNV-"
      },
      "source": [
        "class Dataset():\n",
        "  def __init__(self,x,y):\n",
        "    self.x ,self.y = x,y\n",
        "  \n",
        "  def __len__(self):\n",
        "    return len(self.x)\n",
        "\n",
        "  def __getitem__(self,i):\n",
        "    return self.x[i], self.y[i]"
      ],
      "execution_count": 8,
      "outputs": []
    },
    {
      "cell_type": "code",
      "metadata": {
        "id": "xPiH8eARf8v6"
      },
      "source": [
        "class DataBunch():\n",
        "  def __init__(self, train_dl, valid_dl, c=None):\n",
        "    self.train_dl, self.valid_dl, self.c = train_dl, valid_dl, c\n",
        "\n",
        "  @property\n",
        "  def train_ds(self): return self.train_dl.dataset\n",
        "\n",
        "  @property\n",
        "  def valid_ds(self): return self.valid_dl.dataset"
      ],
      "execution_count": 14,
      "outputs": []
    },
    {
      "cell_type": "code",
      "metadata": {
        "id": "DyERxi93gG1R"
      },
      "source": [
        "def get_dls(train_ds, valid_ds, bs, **kwargs):\n",
        "  return (DataLoader(train_ds, batch_size=bs, shuffle=True, **kwargs),\n",
        "          DataLoader(valid_ds, batch_size=bs*2, **kwargs))"
      ],
      "execution_count": 16,
      "outputs": []
    },
    {
      "cell_type": "code",
      "metadata": {
        "id": "o5K7HPzpbyOK"
      },
      "source": [
        "def normalize(x,m,s): return (x-m)/s"
      ],
      "execution_count": 5,
      "outputs": []
    },
    {
      "cell_type": "code",
      "metadata": {
        "id": "unLJjnTt1RAT"
      },
      "source": [
        "#export\n",
        "def normalize_to(train, valid):\n",
        "  m,s = train.mean(), train.std()\n",
        "  return normalize(train, m, s), normalize(valid, m,s)"
      ],
      "execution_count": 6,
      "outputs": []
    },
    {
      "cell_type": "code",
      "metadata": {
        "id": "T1UrXFgd1mA0"
      },
      "source": [
        "x_train, x_valid = normalize_to(x_train,x_valid)\n",
        "train_ds, valid_ds = Dataset(x_train,y_valid), Dataset(x_valid, y_valid)"
      ],
      "execution_count": 9,
      "outputs": []
    },
    {
      "cell_type": "code",
      "metadata": {
        "id": "q86Aeydh1pid",
        "colab": {
          "base_uri": "https://localhost:8080/"
        },
        "outputId": "f2c224fd-6320-4039-b04f-d1a6a8e5af94"
      },
      "source": [
        "x_train.mean(), x_train.std()"
      ],
      "execution_count": 11,
      "outputs": [
        {
          "output_type": "execute_result",
          "data": {
            "text/plain": [
              "(tensor(2.9752e-08), tensor(1.))"
            ]
          },
          "metadata": {
            "tags": []
          },
          "execution_count": 11
        }
      ]
    },
    {
      "cell_type": "code",
      "metadata": {
        "id": "FC62_t6GcYBT"
      },
      "source": [
        "nh, bs = 50, 512\n",
        "c = y_train.max().item()+1\n",
        "loss_func = F.cross_entropy\n",
        "\n",
        "data = DataBunch(*get_dls(train_ds, valid_ds, bs), c)"
      ],
      "execution_count": 19,
      "outputs": []
    },
    {
      "cell_type": "code",
      "metadata": {
        "id": "uuhsDolrf94r"
      },
      "source": [
        ""
      ],
      "execution_count": null,
      "outputs": []
    }
  ]
}