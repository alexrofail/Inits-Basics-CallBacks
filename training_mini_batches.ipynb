{
  "nbformat": 4,
  "nbformat_minor": 0,
  "metadata": {
    "colab": {
      "name": "training_mini_batches.ipynb",
      "provenance": [],
      "collapsed_sections": [],
      "authorship_tag": "ABX9TyNndFHss4R+rCmC2xUtehlE",
      "include_colab_link": true
    },
    "kernelspec": {
      "name": "python3",
      "display_name": "Python 3"
    },
    "language_info": {
      "name": "python"
    }
  },
  "cells": [
    {
      "cell_type": "markdown",
      "metadata": {
        "id": "view-in-github",
        "colab_type": "text"
      },
      "source": [
        "<a href=\"https://colab.research.google.com/github/alexrofail/Loss-Optimizers-Training-Loops/blob/main/training_mini_batches.ipynb\" target=\"_parent\"><img src=\"https://colab.research.google.com/assets/colab-badge.svg\" alt=\"Open In Colab\"/></a>"
      ]
    },
    {
      "cell_type": "code",
      "metadata": {
        "id": "z-5SIgTPLLja"
      },
      "source": [
        "import torch.nn.functional as F\n",
        "import gzip\n",
        "import pickle\n",
        "from torch import tensor\n",
        "from torch import nn"
      ],
      "execution_count": null,
      "outputs": []
    },
    {
      "cell_type": "code",
      "metadata": {
        "id": "jkwzTcmFLmUP"
      },
      "source": [
        "def get_data():\n",
        "    with gzip.open('mnist.pkl.gz') as f:\n",
        "        ((x_train, y_train), (x_valid, y_valid), _) = pickle.load(f, encoding='latin-1')\n",
        "    return map(tensor, (x_train,y_train,x_valid,y_valid))\n"
      ],
      "execution_count": null,
      "outputs": []
    },
    {
      "cell_type": "code",
      "metadata": {
        "id": "Q-aqneD8MHKD"
      },
      "source": [
        "x_train,y_train,x_valid,y_valid = get_data()"
      ],
      "execution_count": null,
      "outputs": []
    },
    {
      "cell_type": "code",
      "metadata": {
        "id": "fDf5TUNpMLII"
      },
      "source": [
        "import pickle, gzip, math, torch, matplotlib as mpl"
      ],
      "execution_count": null,
      "outputs": []
    },
    {
      "cell_type": "code",
      "metadata": {
        "id": "ywrAQ0VIZ1tY"
      },
      "source": [
        "mpl.rcParams['image.cmap'] = 'gray'"
      ],
      "execution_count": null,
      "outputs": []
    },
    {
      "cell_type": "code",
      "metadata": {
        "id": "i3AaN8b9Z8ZN"
      },
      "source": [
        "n, m = x_train.shape\n",
        "c = y_train.max()+1\n",
        "nh = 50"
      ],
      "execution_count": null,
      "outputs": []
    },
    {
      "cell_type": "code",
      "metadata": {
        "id": "fzWbSWGJaKWH"
      },
      "source": [
        "class Model(nn.Module):\n",
        "  def __init__(self, nin, nh, nout):\n",
        "    super().__init__()\n",
        "    self.layers = [nn.Linear(nin,nh), nn.ReLU(), nn.Linear(nh,nout)]\n",
        "\n",
        "  def __call__(self, x):\n",
        "    for l in self.layers: x = l(x)\n",
        "    return x"
      ],
      "execution_count": null,
      "outputs": []
    },
    {
      "cell_type": "code",
      "metadata": {
        "id": "_cREyth4a5ux"
      },
      "source": [
        "model = Model(m, nh, 10)"
      ],
      "execution_count": null,
      "outputs": []
    },
    {
      "cell_type": "code",
      "metadata": {
        "id": "VrrWCCKzb3kq"
      },
      "source": [
        "pred = model(x_train)"
      ],
      "execution_count": null,
      "outputs": []
    },
    {
      "cell_type": "code",
      "metadata": {
        "id": "s2-xSPGUb6EM"
      },
      "source": [
        "#Now we need a loss function"
      ],
      "execution_count": null,
      "outputs": []
    },
    {
      "cell_type": "code",
      "metadata": {
        "id": "0DsQ8lruDc4w"
      },
      "source": [
        "#For loss funcs we need to first compute the softmax of our activations\n",
        "def log_softmax(x):\n",
        "  return (x.exp()/(x.exp().sum(-1, keepdim=True))).log() #NLL requires log softmax in Pytorch"
      ],
      "execution_count": null,
      "outputs": []
    },
    {
      "cell_type": "code",
      "metadata": {
        "id": "BEVtxdsTEKUy"
      },
      "source": [
        "sm_pred = log_softmax(pred)"
      ],
      "execution_count": null,
      "outputs": []
    },
    {
      "cell_type": "code",
      "metadata": {
        "id": "xlCQ58v8EQgO"
      },
      "source": [
        "#Cross Entropy Loss\n",
        "#Sum of the actual * log prob(actual)\n",
        "#But in this case, our actuals are 1-hot-encoded, it can be done as -log(p_sub_i) where sub_i is he index of desired target"
      ],
      "execution_count": null,
      "outputs": []
    },
    {
      "cell_type": "code",
      "metadata": {
        "colab": {
          "base_uri": "https://localhost:8080/"
        },
        "id": "BY27kmvSHCla",
        "outputId": "998a43fe-e2c1-43a8-ead8-e1d4483766b0"
      },
      "source": [
        "#First three elements of dependent var\n",
        "y_train[:3]"
      ],
      "execution_count": null,
      "outputs": [
        {
          "output_type": "execute_result",
          "data": {
            "text/plain": [
              "tensor([5, 0, 4])"
            ]
          },
          "metadata": {
            "tags": []
          },
          "execution_count": 14
        }
      ]
    },
    {
      "cell_type": "code",
      "metadata": {
        "colab": {
          "base_uri": "https://localhost:8080/"
        },
        "id": "qNIxy3usHMum",
        "outputId": "8446b5fe-f47f-40ef-a258-6a69c19c3622"
      },
      "source": [
        "sm_pred[[0,1,2], [5,0,4]]"
      ],
      "execution_count": null,
      "outputs": [
        {
          "output_type": "execute_result",
          "data": {
            "text/plain": [
              "tensor([-2.2869, -2.4173, -2.4049], grad_fn=<IndexBackward>)"
            ]
          },
          "metadata": {
            "tags": []
          },
          "execution_count": 15
        }
      ]
    },
    {
      "cell_type": "code",
      "metadata": {
        "colab": {
          "base_uri": "https://localhost:8080/"
        },
        "id": "bk3jScUVHbgw",
        "outputId": "2d7c79a1-81d9-4588-e334-6a09448b69e0"
      },
      "source": [
        "y_train.shape"
      ],
      "execution_count": null,
      "outputs": [
        {
          "output_type": "execute_result",
          "data": {
            "text/plain": [
              "torch.Size([50000])"
            ]
          },
          "metadata": {
            "tags": []
          },
          "execution_count": 16
        }
      ]
    },
    {
      "cell_type": "code",
      "metadata": {
        "id": "tl4hF1L0Hdcv"
      },
      "source": [
        "def nll(input, target): return -input[range(target.shape[0]), target].mean()"
      ],
      "execution_count": null,
      "outputs": []
    },
    {
      "cell_type": "code",
      "metadata": {
        "colab": {
          "base_uri": "https://localhost:8080/"
        },
        "id": "diiXd-VBIiOT",
        "outputId": "bfb7a2fa-3e40-474f-e201-1492fffc72ff"
      },
      "source": [
        "loss = nll(sm_pred, y_train)\n",
        "loss"
      ],
      "execution_count": null,
      "outputs": [
        {
          "output_type": "execute_result",
          "data": {
            "text/plain": [
              "tensor(2.3136, grad_fn=<NegBackward>)"
            ]
          },
          "metadata": {
            "tags": []
          },
          "execution_count": 18
        }
      ]
    },
    {
      "cell_type": "code",
      "metadata": {
        "id": "xBPRV_btI4BK"
      },
      "source": [
        "#We can refactor log_softmax(x)\n",
        "def log_softmax(x):\n",
        "  return x - x.exp().sum(-1, keepdim=True).log()"
      ],
      "execution_count": null,
      "outputs": []
    },
    {
      "cell_type": "code",
      "metadata": {
        "id": "RFpXE-TiKThC"
      },
      "source": [
        "#TODO: import the test near function to test these refactorings"
      ],
      "execution_count": null,
      "outputs": []
    },
    {
      "cell_type": "code",
      "metadata": {
        "id": "G3cd_pe0LErp"
      },
      "source": [
        "def logsumexp(x):\n",
        "  max = x.max(-1)[0]\n",
        "  return m + (x - m[:,None]).exp().sum(-1).log()"
      ],
      "execution_count": null,
      "outputs": []
    },
    {
      "cell_type": "code",
      "metadata": {
        "id": "Rt5dy260OHRJ"
      },
      "source": [
        "#Now refactor log_softmax to use logsumexp\n",
        "def log_softmax(x):\n",
        "  return x - x.logsumexp(-1, keepdim=True)\n"
      ],
      "execution_count": null,
      "outputs": []
    },
    {
      "cell_type": "code",
      "metadata": {
        "id": "YzxAOodCQHhR"
      },
      "source": [
        "#In pytorch log_softmax and nll_loss are combined in F.cross_entropy"
      ],
      "execution_count": null,
      "outputs": []
    },
    {
      "cell_type": "code",
      "metadata": {
        "id": "5PNvvfTDOqBA"
      },
      "source": [
        "loss_func = F.cross_entropy"
      ],
      "execution_count": null,
      "outputs": []
    },
    {
      "cell_type": "code",
      "metadata": {
        "id": "RogNdnXNPPSp"
      },
      "source": [
        "#Define a metric: accuracy \n",
        "def accuracy(out, yb):\n",
        "  return (torch.argmax(out, dim=1)==yb).float().mean()"
      ],
      "execution_count": null,
      "outputs": []
    },
    {
      "cell_type": "code",
      "metadata": {
        "colab": {
          "base_uri": "https://localhost:8080/"
        },
        "id": "h2mFjIM8QxVF",
        "outputId": "71717863-261f-43d7-8634-6c789321a90b"
      },
      "source": [
        "bs = 64\n",
        "\n",
        "xb = x_train[0:bs]\n",
        "\n",
        "preds = model(xb)\n",
        "preds[0], preds.shape"
      ],
      "execution_count": null,
      "outputs": [
        {
          "output_type": "execute_result",
          "data": {
            "text/plain": [
              "(tensor([-0.0779,  0.0680,  0.0250, -0.0056, -0.0180,  0.0321,  0.1891, -0.0610,\n",
              "         -0.1683,  0.1322], grad_fn=<SelectBackward>), torch.Size([64, 10]))"
            ]
          },
          "metadata": {
            "tags": []
          },
          "execution_count": 26
        }
      ]
    },
    {
      "cell_type": "code",
      "metadata": {
        "colab": {
          "base_uri": "https://localhost:8080/"
        },
        "id": "x3lG3H2AeWpz",
        "outputId": "38a686ad-27f4-47ac-d904-da33422cc431"
      },
      "source": [
        "yb = y_train[0:bs]\n",
        "loss_func(preds,yb)"
      ],
      "execution_count": null,
      "outputs": [
        {
          "output_type": "execute_result",
          "data": {
            "text/plain": [
              "tensor(2.3131, grad_fn=<NllLossBackward>)"
            ]
          },
          "metadata": {
            "tags": []
          },
          "execution_count": 28
        }
      ]
    },
    {
      "cell_type": "code",
      "metadata": {
        "id": "L-3nr-TURHnZ",
        "colab": {
          "base_uri": "https://localhost:8080/"
        },
        "outputId": "842e619f-3f0e-49ce-cb08-a8a0cf9864a5"
      },
      "source": [
        "accuracy(preds, yb)"
      ],
      "execution_count": null,
      "outputs": [
        {
          "output_type": "execute_result",
          "data": {
            "text/plain": [
              "tensor(0.1094)"
            ]
          },
          "metadata": {
            "tags": []
          },
          "execution_count": 29
        }
      ]
    },
    {
      "cell_type": "code",
      "metadata": {
        "id": "zIY8PeTWdrBR"
      },
      "source": [
        "lr = 0.5\n",
        "\n",
        "epochs =1"
      ],
      "execution_count": null,
      "outputs": []
    },
    {
      "cell_type": "code",
      "metadata": {
        "id": "YOhx3eNxfho5"
      },
      "source": [
        "#Training loop\n",
        "#Part 1, Lesson 2 reference\n",
        "for epoch in range(epochs):\n",
        "  for i in range((n-1)// bs+1):\n",
        "    start_i = i*bs\n",
        "    end_i = start_i +bs\n",
        "    xb = x_train[start_i:end_i]\n",
        "    yb = y_train[start_i:end_i]\n",
        "    loss = loss_func(model(xb), yb)\n",
        "\n",
        "    loss.backward()\n",
        "    with torch.no_grad():\n",
        "      for l in model.layers:\n",
        "        if hasattr(l, 'weight'):\n",
        "          l.weight -= l.weight.grad * lr\n",
        "          l.bias -= l.bias.grad * lr\n",
        "          l.weight.grad.zero_()\n",
        "          l.bias.grad.zero_()"
      ],
      "execution_count": null,
      "outputs": []
    },
    {
      "cell_type": "code",
      "metadata": {
        "colab": {
          "base_uri": "https://localhost:8080/"
        },
        "id": "zSxASNNWC1Fa",
        "outputId": "32538059-6ecc-4d14-8498-3b39f0fe9deb"
      },
      "source": [
        "loss_func(model(xb),yb), accuracy(model(xb), yb)"
      ],
      "execution_count": null,
      "outputs": [
        {
          "output_type": "execute_result",
          "data": {
            "text/plain": [
              "(tensor(0.0664, grad_fn=<NllLossBackward>), tensor(1.))"
            ]
          },
          "metadata": {
            "tags": []
          },
          "execution_count": 34
        }
      ]
    },
    {
      "cell_type": "code",
      "metadata": {
        "id": "QFwFL1kTDXP4"
      },
      "source": [
        "class Model(nn.Module):\n",
        "  def __init__(self, nin, nh, nout):\n",
        "    super().__init__()\n",
        "    self.l1 = nn.Linear(nin, nh)\n",
        "    self.l2 = nn.Linear(nh, nout)\n",
        "\n",
        "  def __call__(self, x):\n",
        "    return self.l2(F.relu(self.l1(x)))"
      ],
      "execution_count": null,
      "outputs": []
    },
    {
      "cell_type": "code",
      "metadata": {
        "id": "mJ8OB7VzGEFt"
      },
      "source": [
        "model = Model(m, nh, 10)"
      ],
      "execution_count": null,
      "outputs": []
    },
    {
      "cell_type": "code",
      "metadata": {
        "colab": {
          "base_uri": "https://localhost:8080/"
        },
        "id": "JcmSLIc8GIQL",
        "outputId": "3330fdc3-cb92-499d-9cde-f7cd888e4c59"
      },
      "source": [
        "for name,l in model.named_children(): print(f\"{name}: {l}\")"
      ],
      "execution_count": null,
      "outputs": [
        {
          "output_type": "stream",
          "text": [
            "l1: Linear(in_features=784, out_features=50, bias=True)\n",
            "l2: Linear(in_features=50, out_features=10, bias=True)\n"
          ],
          "name": "stdout"
        }
      ]
    },
    {
      "cell_type": "code",
      "metadata": {
        "colab": {
          "base_uri": "https://localhost:8080/"
        },
        "id": "b-MBICOoGRzt",
        "outputId": "78fc1977-86de-49a6-d22e-a22767d1544e"
      },
      "source": [
        "model.l1"
      ],
      "execution_count": null,
      "outputs": [
        {
          "output_type": "execute_result",
          "data": {
            "text/plain": [
              "Linear(in_features=784, out_features=50, bias=True)"
            ]
          },
          "metadata": {
            "tags": []
          },
          "execution_count": 38
        }
      ]
    },
    {
      "cell_type": "code",
      "metadata": {
        "id": "A2vHECZzGTXH"
      },
      "source": [
        "#refactored training loop, instead of looping through each layer in the backward we can go straight through params\n",
        "def fit():\n",
        "  for epoch in range(epochs):\n",
        "    for i in range((n-1)// bs+1):\n",
        "      start_i = i*bs\n",
        "      end_i = start_i +bs\n",
        "      xb = x_train[start_i:end_i]\n",
        "      yb = y_train[start_i:end_i]\n",
        "      loss = loss_func(model(xb), yb)\n",
        "\n",
        "      loss.backward()\n",
        "      with torch.no_grad():\n",
        "        for p in model.parameters(): p -= p.grad*lr\n",
        "        model.zero_grad()"
      ],
      "execution_count": null,
      "outputs": []
    },
    {
      "cell_type": "code",
      "metadata": {
        "colab": {
          "base_uri": "https://localhost:8080/"
        },
        "id": "Rv6ElIEPGsbp",
        "outputId": "9703398a-59dc-464b-c62f-955c09947679"
      },
      "source": [
        "fit()\n",
        "loss_func(model(xb), yb), accuracy(model(xb), yb)"
      ],
      "execution_count": null,
      "outputs": [
        {
          "output_type": "execute_result",
          "data": {
            "text/plain": [
              "(tensor(0.0427, grad_fn=<NllLossBackward>), tensor(1.))"
            ]
          },
          "metadata": {
            "tags": []
          },
          "execution_count": 41
        }
      ]
    },
    {
      "cell_type": "code",
      "metadata": {
        "id": "Qw0woQrbG47P"
      },
      "source": [
        "#This is PyTOrch's nn.sequential\n",
        "class SequentialModel(nn.Module):\n",
        "  def __init__(self, layers):\n",
        "    super().__init__()\n",
        "    self.layers = nn.ModuleList(layers)\n",
        "\n",
        "  def __call__(self, x):\n",
        "    for l in self.layers: x = l(x)\n",
        "    return x"
      ],
      "execution_count": null,
      "outputs": []
    },
    {
      "cell_type": "code",
      "metadata": {
        "id": "0-9-JDKWITlY"
      },
      "source": [
        "layers = [nn.Linear(m,nh), nn.ReLU(), nn.Linear(nh, 10)]"
      ],
      "execution_count": null,
      "outputs": []
    },
    {
      "cell_type": "code",
      "metadata": {
        "id": "ZI7DOiJSIJ8w"
      },
      "source": [
        "model = SequentialModel(layers)"
      ],
      "execution_count": null,
      "outputs": []
    },
    {
      "cell_type": "code",
      "metadata": {
        "colab": {
          "base_uri": "https://localhost:8080/"
        },
        "id": "56s2facVIMi_",
        "outputId": "cc0518cc-6b62-4bdb-e9f4-9c68b06de6ae"
      },
      "source": [
        "model"
      ],
      "execution_count": null,
      "outputs": [
        {
          "output_type": "execute_result",
          "data": {
            "text/plain": [
              "SequentialModel(\n",
              "  (layers): ModuleList(\n",
              "    (0): Linear(in_features=784, out_features=50, bias=True)\n",
              "    (1): ReLU()\n",
              "    (2): Linear(in_features=50, out_features=10, bias=True)\n",
              "  )\n",
              ")"
            ]
          },
          "metadata": {
            "tags": []
          },
          "execution_count": 49
        }
      ]
    },
    {
      "cell_type": "code",
      "metadata": {
        "id": "nrZfPvTnIiuP"
      },
      "source": [
        "#Optimizers\n",
        "#to replace our with torch.no grad stuff in fit()\n",
        "\n",
        "#In Pytorch this is the optim.SGD stuff\n",
        "class Optimizer():\n",
        "  def __init__(self, params, lr = 0.5):\n",
        "    self.params, self.lr = list(params), lr\n",
        "\n",
        "  def step(self):\n",
        "    with torch.no_grad():\n",
        "        for p in model.parameters(): p -= p.grad*lr\n",
        "\n",
        "  def zero_grad(self):\n",
        "    for p in self.params: p.grad.data.zero_()"
      ],
      "execution_count": 51,
      "outputs": []
    },
    {
      "cell_type": "code",
      "metadata": {
        "id": "CwwQjIQouWmg"
      },
      "source": [
        "model = nn.Sequential(nn.Linear(m, nh), nn.ReLU(), nn.Linear(nh,10))\n",
        "opt = Optimizer(model.parameters())"
      ],
      "execution_count": 55,
      "outputs": []
    },
    {
      "cell_type": "code",
      "metadata": {
        "id": "Lk0evTv-usYz"
      },
      "source": [
        "#Now we can refactor fit() to use our optimizer\n",
        "def fit():\n",
        "  for epoch in range(epochs):\n",
        "    for i in range((n-1)// bs+1):\n",
        "      start_i = i*bs\n",
        "      end_i = start_i +bs\n",
        "      xb = x_train[start_i:end_i]\n",
        "      yb = y_train[start_i:end_i]\n",
        "      loss = loss_func(model(xb), yb)\n",
        "\n",
        "      loss.backward()\n",
        "      opt.step()\n",
        "      opt.zero_grad()"
      ],
      "execution_count": 56,
      "outputs": []
    },
    {
      "cell_type": "code",
      "metadata": {
        "colab": {
          "base_uri": "https://localhost:8080/"
        },
        "id": "sADy57k5vO0x",
        "outputId": "2fd821b0-96c4-4feb-d248-cfad824e43e6"
      },
      "source": [
        "loss_func(model(xb), yb), accuracy(model(xb), yb)"
      ],
      "execution_count": 57,
      "outputs": [
        {
          "output_type": "execute_result",
          "data": {
            "text/plain": [
              "(tensor(2.3425, grad_fn=<NllLossBackward>), tensor(0.0625))"
            ]
          },
          "metadata": {
            "tags": []
          },
          "execution_count": 57
        }
      ]
    },
    {
      "cell_type": "code",
      "metadata": {
        "id": "bgYeFUEyvS41"
      },
      "source": [
        "from torch import optim"
      ],
      "execution_count": 58,
      "outputs": []
    },
    {
      "cell_type": "code",
      "metadata": {
        "id": "1UhrJo1ixHsK"
      },
      "source": [
        "optim.SGD.step??"
      ],
      "execution_count": 59,
      "outputs": []
    },
    {
      "cell_type": "code",
      "metadata": {
        "id": "d83FkTmaxJxw"
      },
      "source": [
        "def get_model():\n",
        "  model = nn.Sequential(nn.Linear(m, nh), nn.ReLU(), nn.Linear(nh,10))\n",
        "  return model, optim.SGD(model.parameters(), lr=lr)"
      ],
      "execution_count": 60,
      "outputs": []
    },
    {
      "cell_type": "code",
      "metadata": {
        "colab": {
          "base_uri": "https://localhost:8080/"
        },
        "id": "cioNjCh1xiVE",
        "outputId": "bf15577b-6b87-477f-cb46-12c074ac444b"
      },
      "source": [
        "model, opt = get_model()\n",
        "loss_func(model(xb), yb)"
      ],
      "execution_count": 62,
      "outputs": [
        {
          "output_type": "execute_result",
          "data": {
            "text/plain": [
              "tensor(2.2755, grad_fn=<NllLossBackward>)"
            ]
          },
          "metadata": {
            "tags": []
          },
          "execution_count": 62
        }
      ]
    },
    {
      "cell_type": "code",
      "metadata": {
        "id": "8MRN7dKJxq7N"
      },
      "source": [
        "class Dataset():\n",
        "  def __init__(self,x,y):\n",
        "    self.x ,self.y = x,y\n",
        "  \n",
        "  def __len__(self):\n",
        "    return len(self.x)\n",
        "\n",
        "  def __getitem__(self,i):\n",
        "    return self.x[i], self.y[i]"
      ],
      "execution_count": 65,
      "outputs": []
    },
    {
      "cell_type": "code",
      "metadata": {
        "id": "4NW0HQQSNHeo"
      },
      "source": [
        "train_ds, valid_ds = Dataset(x_train, y_train), Dataset(x_valid, y_valid)\n",
        "assert len(train_ds) == len(x_train)\n",
        "assert len(valid_ds) == len(x_valid)"
      ],
      "execution_count": 66,
      "outputs": []
    },
    {
      "cell_type": "code",
      "metadata": {
        "colab": {
          "base_uri": "https://localhost:8080/"
        },
        "id": "BkMK1NLmNtXL",
        "outputId": "27334b4e-3877-4895-a63f-5d408a8b5cda"
      },
      "source": [
        "xb, yb = train_ds[0:5]\n",
        "assert xb.shape == (5, 28*28)\n",
        "assert yb.shape == (5,)\n",
        "xb,yb"
      ],
      "execution_count": 70,
      "outputs": [
        {
          "output_type": "execute_result",
          "data": {
            "text/plain": [
              "(tensor([[0., 0., 0.,  ..., 0., 0., 0.],\n",
              "         [0., 0., 0.,  ..., 0., 0., 0.],\n",
              "         [0., 0., 0.,  ..., 0., 0., 0.],\n",
              "         [0., 0., 0.,  ..., 0., 0., 0.],\n",
              "         [0., 0., 0.,  ..., 0., 0., 0.]]), tensor([5, 0, 4, 1, 9]))"
            ]
          },
          "metadata": {
            "tags": []
          },
          "execution_count": 70
        }
      ]
    },
    {
      "cell_type": "code",
      "metadata": {
        "colab": {
          "base_uri": "https://localhost:8080/"
        },
        "id": "WP3zTNAcQO_d",
        "outputId": "4186cea6-d219-4f92-f675-a15602d82cb2"
      },
      "source": [
        "xb"
      ],
      "execution_count": 71,
      "outputs": [
        {
          "output_type": "execute_result",
          "data": {
            "text/plain": [
              "tensor([[0., 0., 0.,  ..., 0., 0., 0.],\n",
              "        [0., 0., 0.,  ..., 0., 0., 0.],\n",
              "        [0., 0., 0.,  ..., 0., 0., 0.],\n",
              "        [0., 0., 0.,  ..., 0., 0., 0.],\n",
              "        [0., 0., 0.,  ..., 0., 0., 0.]])"
            ]
          },
          "metadata": {
            "tags": []
          },
          "execution_count": 71
        }
      ]
    },
    {
      "cell_type": "code",
      "metadata": {
        "colab": {
          "base_uri": "https://localhost:8080/"
        },
        "id": "R2qLPEz8QPJL",
        "outputId": "df51aa25-9449-4b3e-964b-3a085c494ce8"
      },
      "source": [
        "yb"
      ],
      "execution_count": 72,
      "outputs": [
        {
          "output_type": "execute_result",
          "data": {
            "text/plain": [
              "tensor([5, 0, 4, 1, 9])"
            ]
          },
          "metadata": {
            "tags": []
          },
          "execution_count": 72
        }
      ]
    },
    {
      "cell_type": "code",
      "metadata": {
        "id": "y_xXLxC7NfMD"
      },
      "source": [
        "model, opt = get_model()"
      ],
      "execution_count": 67,
      "outputs": []
    },
    {
      "cell_type": "code",
      "metadata": {
        "id": "6LpKZ-JyNl9w"
      },
      "source": [
        "for epoch in range(epochs):\n",
        "    for i in range((n-1) // bs+1):\n",
        "      start_i = i*bs\n",
        "      end_i = start_i +bs\n",
        "      xb = x_train[start_i:end_i]\n",
        "      yb = y_train[start_i:end_i]\n",
        "      loss = loss_func(model(xb), yb)\n",
        "\n",
        "      loss.backward()\n",
        "      opt.step()\n",
        "      opt.zero_grad()"
      ],
      "execution_count": 73,
      "outputs": []
    },
    {
      "cell_type": "code",
      "metadata": {
        "colab": {
          "base_uri": "https://localhost:8080/"
        },
        "id": "huWSfYBjQceH",
        "outputId": "bd15ee2f-01a5-4fc9-d5ce-cdbabc45af2f"
      },
      "source": [
        "loss_func(model(xb), yb), accuracy(model(xb), yb)"
      ],
      "execution_count": 74,
      "outputs": [
        {
          "output_type": "execute_result",
          "data": {
            "text/plain": [
              "(tensor(0.2987, grad_fn=<NllLossBackward>), tensor(0.9375))"
            ]
          },
          "metadata": {
            "tags": []
          },
          "execution_count": 74
        }
      ]
    },
    {
      "cell_type": "code",
      "metadata": {
        "id": "Rsce6MPGQtCC"
      },
      "source": [
        ""
      ],
      "execution_count": null,
      "outputs": []
    }
  ]
}